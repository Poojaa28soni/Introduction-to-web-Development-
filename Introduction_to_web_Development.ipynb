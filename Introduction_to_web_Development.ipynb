{
  "nbformat": 4,
  "nbformat_minor": 0,
  "metadata": {
    "colab": {
      "provenance": []
    },
    "kernelspec": {
      "name": "python3",
      "display_name": "Python 3"
    },
    "language_info": {
      "name": "python"
    }
  },
  "cells": [
    {
      "cell_type": "markdown",
      "source": [],
      "metadata": {
        "id": "4S9bYZX6fDzx"
      }
    },
    {
      "cell_type": "markdown",
      "source": [
        "Introduction to web Development\n",
        "\n"
      ],
      "metadata": {
        "id": "obxD7gwtnwla"
      }
    },
    {
      "cell_type": "code",
      "source": [
        "1. Explain the main components of client-server architecture and their functions.\n",
        "\n",
        "->Main Components of Client-Server Architecture:\n",
        "\n",
        "Client:\n",
        "Requests services or resources.\n",
        "Interface for user interaction.\n",
        "\n",
        "Server:\n",
        "Provides services or resources.\n",
        "Processes client requests and sends responses.\n",
        "\n",
        "Network:\n",
        "Connects clients and servers.\n",
        "Enables data exchange between them.\n",
        "\n",
        "Protocols:\n",
        "Set of rules for communication (e.g., HTTP, HTTPS, SMTP, VOIP, FTP).\n",
        "Ensures proper data transfer and understanding.\n",
        "\n",
        "Each part works together to deliver and manage services efficiently.\n",
        "\n",
        "2. Discuss the various career paths available after completing a web development course.\n",
        "\n",
        "->Career Path after Web Development\n",
        "\n",
        "-Front-End Developer\n",
        "Works on how the website looks and feels to users.\n",
        "\n",
        "-Back-End Developer\n",
        "Takes care of how the website works behind the scenes, like servers and databases.\n",
        "\n",
        "-Full-Stack Developer\n",
        "Knows both front-end and back-end, and can build the whole website.\n",
        "\n",
        "-Web Designer\n",
        "Designs the layout, colors, and style of the website to make it look good.\n",
        "\n",
        "-Web Administrator\n",
        "Keeps the website running smoothly, safe, and up to date.\n",
        "\n",
        "3. Describe the role of a web browser's developer tools in web development.\n",
        "\n",
        "->Role of Web Browser's Developer Tools in Web Development:\n",
        "\n",
        "Developer tools (DevTools) help web developers test, debug, and improve websites directly in the browser. Here's what they’re used for:\n",
        "\n",
        "-Inspect Elements - See and edit HTML/CSS in real-time.\n",
        "\n",
        "-Console - View errors and run JavaScript code.\n",
        "\n",
        "-Network Tab - Check if files (like images or scripts) are loading properly.\n",
        "\n",
        "-Performance - Analyze how fast the site loads and runs.\n",
        "\n",
        "-Mobile View - Test how the site looks on different screen sizes.\n",
        "\n",
        "4. What are the advantages of using a Version Control System like Git in a development project.\n",
        "\n",
        "->Advantages of Using a Version Control System like Git in a Development Project:\n",
        "\n",
        "-Tracks Changes - Keeps a history of all changes made to the code.\n",
        "-Team Collaboration - Lets multiple people work on the same project without overwriting each other's work.\n",
        "-Undo Mistakes - Easily go back to a previous version if something breaks.\n",
        "-Branching - Test new features or ideas without affecting the main code.\n",
        "-Backup - Acts as a backup of your project stored safely (e.g., on GitHub).\n",
        "-Clear Communication - Shows who made changes, what was changed, and why.\n",
        "\n",
        "In short, Git makes development safer, faster, and more organized—especially when working with a team.\n",
        "\n",
        "5. Compare and contrast a text editor and an IDE, highlighting their key features and uses.\n",
        "\n",
        "->Text Editor:\n",
        "It is a tool used to write and edit code. Offers basic features like syntax highlighting and is fast and simple.\n",
        "Examples: Notepad++, Sublime Text, VS Code.\n",
        "\n",
        "IDE (Integrated Development Environment):\n",
        "It is a complete software suite for coding, testing, and debugging. Includes a text editor, compiler, debugger, and other tools.\n",
        "Examples: IntelliJ IDEA, Eclipse, PyCharm.\n",
        "\n",
        ""
      ],
      "metadata": {
        "id": "yJhddSQ0oUC3"
      },
      "execution_count": null,
      "outputs": []
    }
  ]
}